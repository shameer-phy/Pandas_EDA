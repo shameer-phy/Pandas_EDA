{
  "nbformat": 4,
  "nbformat_minor": 0,
  "metadata": {
    "colab": {
      "name": "Data_preprocessing.ipynb",
      "provenance": [],
      "authorship_tag": "ABX9TyNTTr6qp0MfwuewRTAJxlvR",
      "include_colab_link": true
    },
    "kernelspec": {
      "name": "python3",
      "display_name": "Python 3"
    }
  },
  "cells": [
    {
      "cell_type": "markdown",
      "metadata": {
        "id": "view-in-github",
        "colab_type": "text"
      },
      "source": [
        "<a href=\"https://colab.research.google.com/github/shameer-phy/Pandas_EDA/blob/main/Project_Geo_spatial_Analysis/Data_preprocessing.ipynb\" target=\"_parent\"><img src=\"https://colab.research.google.com/assets/colab-badge.svg\" alt=\"Open In Colab\"/></a>"
      ]
    },
    {
      "cell_type": "markdown",
      "metadata": {
        "id": "ntWkL-snyMo8"
      },
      "source": [
        "#We will process the data to make it ready for usage in the model"
      ]
    },
    {
      "cell_type": "code",
      "metadata": {
        "colab": {
          "base_uri": "https://localhost:8080/"
        },
        "id": "YaQ3Ln1cyX2f",
        "outputId": "be7220b2-6fd8-49eb-9435-5a22173b3b5b"
      },
      "source": [
        "#Read the Dataset\r\n",
        "from google.colab import drive\r\n",
        "drive.mount('/content/gdrive')"
      ],
      "execution_count": 2,
      "outputs": [
        {
          "output_type": "stream",
          "text": [
            "Mounted at /content/gdrive\n"
          ],
          "name": "stdout"
        }
      ]
    },
    {
      "cell_type": "code",
      "metadata": {
        "id": "ST5dA7-awnin"
      },
      "source": [
        "import pandas as pd\r\n",
        "df = pd.read_csv('/content/gdrive/My Drive/Datasets/GlobalLandTemperaturesByCity.csv')"
      ],
      "execution_count": 3,
      "outputs": []
    },
    {
      "cell_type": "code",
      "metadata": {
        "colab": {
          "base_uri": "https://localhost:8080/",
          "height": 206
        },
        "id": "XdhjfYDD0OqX",
        "outputId": "52ffd3d9-ba1c-4f49-9d7d-1aea5f73f85d"
      },
      "source": [
        "df.head()\r\n"
      ],
      "execution_count": 7,
      "outputs": [
        {
          "output_type": "execute_result",
          "data": {
            "text/html": [
              "<div>\n",
              "<style scoped>\n",
              "    .dataframe tbody tr th:only-of-type {\n",
              "        vertical-align: middle;\n",
              "    }\n",
              "\n",
              "    .dataframe tbody tr th {\n",
              "        vertical-align: top;\n",
              "    }\n",
              "\n",
              "    .dataframe thead th {\n",
              "        text-align: right;\n",
              "    }\n",
              "</style>\n",
              "<table border=\"1\" class=\"dataframe\">\n",
              "  <thead>\n",
              "    <tr style=\"text-align: right;\">\n",
              "      <th></th>\n",
              "      <th>dt</th>\n",
              "      <th>AverageTemperature</th>\n",
              "      <th>AverageTemperatureUncertainty</th>\n",
              "      <th>City</th>\n",
              "      <th>Country</th>\n",
              "      <th>Latitude</th>\n",
              "      <th>Longitude</th>\n",
              "    </tr>\n",
              "  </thead>\n",
              "  <tbody>\n",
              "    <tr>\n",
              "      <th>0</th>\n",
              "      <td>1743-11-01</td>\n",
              "      <td>6.068</td>\n",
              "      <td>1.737</td>\n",
              "      <td>Århus</td>\n",
              "      <td>Denmark</td>\n",
              "      <td>57.05N</td>\n",
              "      <td>10.33E</td>\n",
              "    </tr>\n",
              "    <tr>\n",
              "      <th>1</th>\n",
              "      <td>1743-12-01</td>\n",
              "      <td>NaN</td>\n",
              "      <td>NaN</td>\n",
              "      <td>Århus</td>\n",
              "      <td>Denmark</td>\n",
              "      <td>57.05N</td>\n",
              "      <td>10.33E</td>\n",
              "    </tr>\n",
              "    <tr>\n",
              "      <th>2</th>\n",
              "      <td>1744-01-01</td>\n",
              "      <td>NaN</td>\n",
              "      <td>NaN</td>\n",
              "      <td>Århus</td>\n",
              "      <td>Denmark</td>\n",
              "      <td>57.05N</td>\n",
              "      <td>10.33E</td>\n",
              "    </tr>\n",
              "    <tr>\n",
              "      <th>3</th>\n",
              "      <td>1744-02-01</td>\n",
              "      <td>NaN</td>\n",
              "      <td>NaN</td>\n",
              "      <td>Århus</td>\n",
              "      <td>Denmark</td>\n",
              "      <td>57.05N</td>\n",
              "      <td>10.33E</td>\n",
              "    </tr>\n",
              "    <tr>\n",
              "      <th>4</th>\n",
              "      <td>1744-03-01</td>\n",
              "      <td>NaN</td>\n",
              "      <td>NaN</td>\n",
              "      <td>Århus</td>\n",
              "      <td>Denmark</td>\n",
              "      <td>57.05N</td>\n",
              "      <td>10.33E</td>\n",
              "    </tr>\n",
              "  </tbody>\n",
              "</table>\n",
              "</div>"
            ],
            "text/plain": [
              "           dt  AverageTemperature  ...  Latitude Longitude\n",
              "0  1743-11-01               6.068  ...    57.05N    10.33E\n",
              "1  1743-12-01                 NaN  ...    57.05N    10.33E\n",
              "2  1744-01-01                 NaN  ...    57.05N    10.33E\n",
              "3  1744-02-01                 NaN  ...    57.05N    10.33E\n",
              "4  1744-03-01                 NaN  ...    57.05N    10.33E\n",
              "\n",
              "[5 rows x 7 columns]"
            ]
          },
          "metadata": {
            "tags": []
          },
          "execution_count": 7
        }
      ]
    },
    {
      "cell_type": "code",
      "metadata": {
        "id": "CNzrvyOs0W4-"
      },
      "source": [
        "usa = df[df['Country']=='United States']\r\n"
      ],
      "execution_count": 9,
      "outputs": []
    },
    {
      "cell_type": "code",
      "metadata": {
        "colab": {
          "base_uri": "https://localhost:8080/"
        },
        "id": "8FikFY3203YQ",
        "outputId": "5ca8aef2-15cb-4d8c-aced-cb5dabb4f3b2"
      },
      "source": [
        "usa['City'].unique()\r\n",
        "usa.shape"
      ],
      "execution_count": 16,
      "outputs": [
        {
          "output_type": "execute_result",
          "data": {
            "text/plain": [
              "(687289, 7)"
            ]
          },
          "metadata": {
            "tags": []
          },
          "execution_count": 16
        }
      ]
    },
    {
      "cell_type": "code",
      "metadata": {
        "id": "bnwNUrC71guj"
      },
      "source": [
        "req_cities = ['New York','Los Angeles','San Francisco']\r\n",
        "usa_data = usa[usa['City'].isin(req_cities)]"
      ],
      "execution_count": 17,
      "outputs": []
    },
    {
      "cell_type": "code",
      "metadata": {
        "colab": {
          "base_uri": "https://localhost:8080/",
          "height": 206
        },
        "id": "xWbJX6_O19ID",
        "outputId": "b9861681-fb36-4df4-cfad-d060b3364de5"
      },
      "source": [
        "usa_data.head()"
      ],
      "execution_count": 21,
      "outputs": [
        {
          "output_type": "execute_result",
          "data": {
            "text/html": [
              "<div>\n",
              "<style scoped>\n",
              "    .dataframe tbody tr th:only-of-type {\n",
              "        vertical-align: middle;\n",
              "    }\n",
              "\n",
              "    .dataframe tbody tr th {\n",
              "        vertical-align: top;\n",
              "    }\n",
              "\n",
              "    .dataframe thead th {\n",
              "        text-align: right;\n",
              "    }\n",
              "</style>\n",
              "<table border=\"1\" class=\"dataframe\">\n",
              "  <thead>\n",
              "    <tr style=\"text-align: right;\">\n",
              "      <th></th>\n",
              "      <th>dt</th>\n",
              "      <th>AverageTemperature</th>\n",
              "      <th>AverageTemperatureUncertainty</th>\n",
              "      <th>City</th>\n",
              "      <th>Country</th>\n",
              "      <th>Latitude</th>\n",
              "      <th>Longitude</th>\n",
              "    </tr>\n",
              "  </thead>\n",
              "  <tbody>\n",
              "    <tr>\n",
              "      <th>4356748</th>\n",
              "      <td>1849-01-01</td>\n",
              "      <td>8.819</td>\n",
              "      <td>2.558</td>\n",
              "      <td>Los Angeles</td>\n",
              "      <td>United States</td>\n",
              "      <td>34.56N</td>\n",
              "      <td>118.70W</td>\n",
              "    </tr>\n",
              "    <tr>\n",
              "      <th>4356749</th>\n",
              "      <td>1849-02-01</td>\n",
              "      <td>9.577</td>\n",
              "      <td>1.970</td>\n",
              "      <td>Los Angeles</td>\n",
              "      <td>United States</td>\n",
              "      <td>34.56N</td>\n",
              "      <td>118.70W</td>\n",
              "    </tr>\n",
              "    <tr>\n",
              "      <th>4356750</th>\n",
              "      <td>1849-03-01</td>\n",
              "      <td>11.814</td>\n",
              "      <td>2.173</td>\n",
              "      <td>Los Angeles</td>\n",
              "      <td>United States</td>\n",
              "      <td>34.56N</td>\n",
              "      <td>118.70W</td>\n",
              "    </tr>\n",
              "    <tr>\n",
              "      <th>4356751</th>\n",
              "      <td>1849-04-01</td>\n",
              "      <td>13.704</td>\n",
              "      <td>2.902</td>\n",
              "      <td>Los Angeles</td>\n",
              "      <td>United States</td>\n",
              "      <td>34.56N</td>\n",
              "      <td>118.70W</td>\n",
              "    </tr>\n",
              "    <tr>\n",
              "      <th>4356752</th>\n",
              "      <td>1849-05-01</td>\n",
              "      <td>14.834</td>\n",
              "      <td>2.017</td>\n",
              "      <td>Los Angeles</td>\n",
              "      <td>United States</td>\n",
              "      <td>34.56N</td>\n",
              "      <td>118.70W</td>\n",
              "    </tr>\n",
              "  </tbody>\n",
              "</table>\n",
              "</div>"
            ],
            "text/plain": [
              "                 dt  AverageTemperature  ...  Latitude Longitude\n",
              "4356748  1849-01-01               8.819  ...    34.56N   118.70W\n",
              "4356749  1849-02-01               9.577  ...    34.56N   118.70W\n",
              "4356750  1849-03-01              11.814  ...    34.56N   118.70W\n",
              "4356751  1849-04-01              13.704  ...    34.56N   118.70W\n",
              "4356752  1849-05-01              14.834  ...    34.56N   118.70W\n",
              "\n",
              "[5 rows x 7 columns]"
            ]
          },
          "metadata": {
            "tags": []
          },
          "execution_count": 21
        }
      ]
    },
    {
      "cell_type": "code",
      "metadata": {
        "id": "zc_ZYVL646bo"
      },
      "source": [
        "usa_data = usa_data[['dt','AverageTemperature']]"
      ],
      "execution_count": 22,
      "outputs": []
    },
    {
      "cell_type": "code",
      "metadata": {
        "colab": {
          "base_uri": "https://localhost:8080/",
          "height": 206
        },
        "id": "ZMcuy1Ul5Bka",
        "outputId": "e88161c9-7ef7-4691-ab16-26070060f9e4"
      },
      "source": [
        "usa_data.head()"
      ],
      "execution_count": 24,
      "outputs": [
        {
          "output_type": "execute_result",
          "data": {
            "text/html": [
              "<div>\n",
              "<style scoped>\n",
              "    .dataframe tbody tr th:only-of-type {\n",
              "        vertical-align: middle;\n",
              "    }\n",
              "\n",
              "    .dataframe tbody tr th {\n",
              "        vertical-align: top;\n",
              "    }\n",
              "\n",
              "    .dataframe thead th {\n",
              "        text-align: right;\n",
              "    }\n",
              "</style>\n",
              "<table border=\"1\" class=\"dataframe\">\n",
              "  <thead>\n",
              "    <tr style=\"text-align: right;\">\n",
              "      <th></th>\n",
              "      <th>dt</th>\n",
              "      <th>AverageTemperature</th>\n",
              "    </tr>\n",
              "  </thead>\n",
              "  <tbody>\n",
              "    <tr>\n",
              "      <th>4356748</th>\n",
              "      <td>1849-01-01</td>\n",
              "      <td>8.819</td>\n",
              "    </tr>\n",
              "    <tr>\n",
              "      <th>4356749</th>\n",
              "      <td>1849-02-01</td>\n",
              "      <td>9.577</td>\n",
              "    </tr>\n",
              "    <tr>\n",
              "      <th>4356750</th>\n",
              "      <td>1849-03-01</td>\n",
              "      <td>11.814</td>\n",
              "    </tr>\n",
              "    <tr>\n",
              "      <th>4356751</th>\n",
              "      <td>1849-04-01</td>\n",
              "      <td>13.704</td>\n",
              "    </tr>\n",
              "    <tr>\n",
              "      <th>4356752</th>\n",
              "      <td>1849-05-01</td>\n",
              "      <td>14.834</td>\n",
              "    </tr>\n",
              "  </tbody>\n",
              "</table>\n",
              "</div>"
            ],
            "text/plain": [
              "                 dt  AverageTemperature\n",
              "4356748  1849-01-01               8.819\n",
              "4356749  1849-02-01               9.577\n",
              "4356750  1849-03-01              11.814\n",
              "4356751  1849-04-01              13.704\n",
              "4356752  1849-05-01              14.834"
            ]
          },
          "metadata": {
            "tags": []
          },
          "execution_count": 24
        }
      ]
    },
    {
      "cell_type": "code",
      "metadata": {
        "id": "_1UvEdHm6Ldx"
      },
      "source": [
        "usa_data.dtypes\r\n",
        "usa_data['dt']=pd.to_datetime(usa_data['dt'])"
      ],
      "execution_count": 28,
      "outputs": []
    },
    {
      "cell_type": "code",
      "metadata": {
        "id": "iGT1-5Mh0YNH"
      },
      "source": [
        "usa_data.dtypes\r\n",
        "usa_data.columns = ['Date', 'Temp']"
      ],
      "execution_count": 30,
      "outputs": []
    },
    {
      "cell_type": "code",
      "metadata": {
        "colab": {
          "base_uri": "https://localhost:8080/",
          "height": 206
        },
        "id": "tajwlQn46wbC",
        "outputId": "efec3da5-642f-4814-beb1-87ed076514e9"
      },
      "source": [
        "usa_data.head()"
      ],
      "execution_count": 32,
      "outputs": [
        {
          "output_type": "execute_result",
          "data": {
            "text/html": [
              "<div>\n",
              "<style scoped>\n",
              "    .dataframe tbody tr th:only-of-type {\n",
              "        vertical-align: middle;\n",
              "    }\n",
              "\n",
              "    .dataframe tbody tr th {\n",
              "        vertical-align: top;\n",
              "    }\n",
              "\n",
              "    .dataframe thead th {\n",
              "        text-align: right;\n",
              "    }\n",
              "</style>\n",
              "<table border=\"1\" class=\"dataframe\">\n",
              "  <thead>\n",
              "    <tr style=\"text-align: right;\">\n",
              "      <th></th>\n",
              "      <th>Date</th>\n",
              "      <th>Temp</th>\n",
              "    </tr>\n",
              "  </thead>\n",
              "  <tbody>\n",
              "    <tr>\n",
              "      <th>4356748</th>\n",
              "      <td>1849-01-01</td>\n",
              "      <td>8.819</td>\n",
              "    </tr>\n",
              "    <tr>\n",
              "      <th>4356749</th>\n",
              "      <td>1849-02-01</td>\n",
              "      <td>9.577</td>\n",
              "    </tr>\n",
              "    <tr>\n",
              "      <th>4356750</th>\n",
              "      <td>1849-03-01</td>\n",
              "      <td>11.814</td>\n",
              "    </tr>\n",
              "    <tr>\n",
              "      <th>4356751</th>\n",
              "      <td>1849-04-01</td>\n",
              "      <td>13.704</td>\n",
              "    </tr>\n",
              "    <tr>\n",
              "      <th>4356752</th>\n",
              "      <td>1849-05-01</td>\n",
              "      <td>14.834</td>\n",
              "    </tr>\n",
              "  </tbody>\n",
              "</table>\n",
              "</div>"
            ],
            "text/plain": [
              "              Date    Temp\n",
              "4356748 1849-01-01   8.819\n",
              "4356749 1849-02-01   9.577\n",
              "4356750 1849-03-01  11.814\n",
              "4356751 1849-04-01  13.704\n",
              "4356752 1849-05-01  14.834"
            ]
          },
          "metadata": {
            "tags": []
          },
          "execution_count": 32
        }
      ]
    },
    {
      "cell_type": "code",
      "metadata": {
        "colab": {
          "base_uri": "https://localhost:8080/"
        },
        "id": "-Nn1I5kD66Vf",
        "outputId": "b33c50ff-9493-4829-8a5d-587e2b171902"
      },
      "source": [
        "usa_data.isnull().sum()"
      ],
      "execution_count": 33,
      "outputs": [
        {
          "output_type": "execute_result",
          "data": {
            "text/plain": [
              "Date      0\n",
              "Temp    120\n",
              "dtype: int64"
            ]
          },
          "metadata": {
            "tags": []
          },
          "execution_count": 33
        }
      ]
    },
    {
      "cell_type": "code",
      "metadata": {
        "id": "ZB6js1yq0YQa"
      },
      "source": [
        "usa_data.dropna(inplace=True)"
      ],
      "execution_count": 34,
      "outputs": []
    },
    {
      "cell_type": "code",
      "metadata": {
        "colab": {
          "base_uri": "https://localhost:8080/"
        },
        "id": "eyRIyJyQ0YT3",
        "outputId": "d312b7d6-8ff7-4f44-ffce-3abbe6ce2b5e"
      },
      "source": [
        "usa_data.isnull().sum()"
      ],
      "execution_count": 36,
      "outputs": [
        {
          "output_type": "execute_result",
          "data": {
            "text/plain": [
              "Date    0\n",
              "Temp    0\n",
              "dtype: int64"
            ]
          },
          "metadata": {
            "tags": []
          },
          "execution_count": 36
        }
      ]
    },
    {
      "cell_type": "markdown",
      "metadata": {
        "id": "hOzvB3hF7_0I"
      },
      "source": [
        "#For Time Series analysis it is required that row indexes are datetime objects"
      ]
    },
    {
      "cell_type": "code",
      "metadata": {
        "colab": {
          "base_uri": "https://localhost:8080/",
          "height": 237
        },
        "id": "MFBya4wn8KdS",
        "outputId": "6aa2872e-ade6-4954-f48c-b55a3c08a798"
      },
      "source": [
        "usa_data.set_index('Date',inplace=True)\r\n",
        "usa_data.head()"
      ],
      "execution_count": 39,
      "outputs": [
        {
          "output_type": "execute_result",
          "data": {
            "text/html": [
              "<div>\n",
              "<style scoped>\n",
              "    .dataframe tbody tr th:only-of-type {\n",
              "        vertical-align: middle;\n",
              "    }\n",
              "\n",
              "    .dataframe tbody tr th {\n",
              "        vertical-align: top;\n",
              "    }\n",
              "\n",
              "    .dataframe thead th {\n",
              "        text-align: right;\n",
              "    }\n",
              "</style>\n",
              "<table border=\"1\" class=\"dataframe\">\n",
              "  <thead>\n",
              "    <tr style=\"text-align: right;\">\n",
              "      <th></th>\n",
              "      <th>Temp</th>\n",
              "    </tr>\n",
              "    <tr>\n",
              "      <th>Date</th>\n",
              "      <th></th>\n",
              "    </tr>\n",
              "  </thead>\n",
              "  <tbody>\n",
              "    <tr>\n",
              "      <th>1849-01-01</th>\n",
              "      <td>8.819</td>\n",
              "    </tr>\n",
              "    <tr>\n",
              "      <th>1849-02-01</th>\n",
              "      <td>9.577</td>\n",
              "    </tr>\n",
              "    <tr>\n",
              "      <th>1849-03-01</th>\n",
              "      <td>11.814</td>\n",
              "    </tr>\n",
              "    <tr>\n",
              "      <th>1849-04-01</th>\n",
              "      <td>13.704</td>\n",
              "    </tr>\n",
              "    <tr>\n",
              "      <th>1849-05-01</th>\n",
              "      <td>14.834</td>\n",
              "    </tr>\n",
              "  </tbody>\n",
              "</table>\n",
              "</div>"
            ],
            "text/plain": [
              "              Temp\n",
              "Date              \n",
              "1849-01-01   8.819\n",
              "1849-02-01   9.577\n",
              "1849-03-01  11.814\n",
              "1849-04-01  13.704\n",
              "1849-05-01  14.834"
            ]
          },
          "metadata": {
            "tags": []
          },
          "execution_count": 39
        }
      ]
    },
    {
      "cell_type": "markdown",
      "metadata": {
        "id": "d1eCK10p97kC"
      },
      "source": [
        "#Check if data is stationery or not. If not, make it stationery.\r\n",
        "Stationery means average and std should not change with time."
      ]
    },
    {
      "cell_type": "code",
      "metadata": {
        "colab": {
          "base_uri": "https://localhost:8080/",
          "height": 297
        },
        "id": "L3Hu1hNV-O1i",
        "outputId": "6006109c-cf3c-4016-c671-242f1daf7a9a"
      },
      "source": [
        "import seaborn as sns\r\n",
        "sns.lineplot(x=usa_data.index,y=usa_data['Temp'])"
      ],
      "execution_count": 41,
      "outputs": [
        {
          "output_type": "execute_result",
          "data": {
            "text/plain": [
              "<matplotlib.axes._subplots.AxesSubplot at 0x7f2e78b843c8>"
            ]
          },
          "metadata": {
            "tags": []
          },
          "execution_count": 41
        },
        {
          "output_type": "display_data",
          "data": {
            "image/png": "[encoded data removed]",
            "text/plain": [
              "<Figure size 432x288 with 1 Axes>"
            ]
          },
          "metadata": {
            "tags": [],
            "needs_background": "light"
          }
        }
      ]
    },
    {
      "cell_type": "code",
      "metadata": {
        "id": "Z6YZU9-V-Ltx"
      },
      "source": [
        "from statsmodels.tsa.stattools import adfuller"
      ],
      "execution_count": 45,
      "outputs": []
    },
    {
      "cell_type": "code",
      "metadata": {
        "colab": {
          "base_uri": "https://localhost:8080/"
        },
        "id": "Yrk2By5Jags5",
        "outputId": "32ad0460-423c-43eb-8927-b140ac7d5f7d"
      },
      "source": [
        "test_result = adfuller(usa_data['Temp'])\r\n",
        "test_result"
      ],
      "execution_count": 46,
      "outputs": [
        {
          "output_type": "execute_result",
          "data": {
            "text/plain": [
              "(-2.0063893036757956,\n",
              " 0.28377865833332594,\n",
              " 35,\n",
              " 7037,\n",
              " {'1%': -3.431279613044704,\n",
              "  '10%': -2.5669886726127307,\n",
              "  '5%': -2.8619508146206374},\n",
              " 28011.222669408726)"
            ]
          },
          "metadata": {
            "tags": []
          },
          "execution_count": 46
        }
      ]
    },
    {
      "cell_type": "code",
      "metadata": {
        "id": "Fwqx4QaI8WFv"
      },
      "source": [
        "def adfuller_test(Temp):\r\n",
        "  result = adfuller(Temp)\r\n",
        "  labels = ['ADF Test Statistic','P-value','#lags used', 'Number of observations used']\r\n",
        "  for value, label in zip(result,labels):\r\n",
        "    print(label + ':' + str(value))\r\n",
        "  if result[1] < 0.05:\r\n",
        "    print('Reject null hypothesis. Data is stationary')\r\n",
        "  else:\r\n",
        "    print('Failed to reject null hypothesis. Data is not stationery')"
      ],
      "execution_count": 49,
      "outputs": []
    },
    {
      "cell_type": "code",
      "metadata": {
        "colab": {
          "base_uri": "https://localhost:8080/"
        },
        "id": "H6-VHCqYc1RQ",
        "outputId": "490c607a-1d03-4026-c694-39d2bbcc3b48"
      },
      "source": [
        "adfuller_test(usa_data['Temp'])"
      ],
      "execution_count": 51,
      "outputs": [
        {
          "output_type": "stream",
          "text": [
            "ADF Test Statistic:-2.0063893036757956\n",
            "P-value:0.28377865833332594\n",
            "#lags used:35\n",
            "Number of observations used:7037\n",
            "Failed to reject null hypothesis. Data is not stationery\n"
          ],
          "name": "stdout"
        }
      ]
    },
    {
      "cell_type": "code",
      "metadata": {
        "colab": {
          "base_uri": "https://localhost:8080/",
          "height": 455
        },
        "id": "N8OzJsbJdFHG",
        "outputId": "4c3a9f37-756b-4c94-c33f-bf50c9589f76"
      },
      "source": [
        "usa_copy = usa_data.copy()\r\n",
        "usa_copy"
      ],
      "execution_count": 56,
      "outputs": [
        {
          "output_type": "execute_result",
          "data": {
            "text/html": [
              "<div>\n",
              "<style scoped>\n",
              "    .dataframe tbody tr th:only-of-type {\n",
              "        vertical-align: middle;\n",
              "    }\n",
              "\n",
              "    .dataframe tbody tr th {\n",
              "        vertical-align: top;\n",
              "    }\n",
              "\n",
              "    .dataframe thead th {\n",
              "        text-align: right;\n",
              "    }\n",
              "</style>\n",
              "<table border=\"1\" class=\"dataframe\">\n",
              "  <thead>\n",
              "    <tr style=\"text-align: right;\">\n",
              "      <th></th>\n",
              "      <th>Temp</th>\n",
              "    </tr>\n",
              "    <tr>\n",
              "      <th>Date</th>\n",
              "      <th></th>\n",
              "    </tr>\n",
              "  </thead>\n",
              "  <tbody>\n",
              "    <tr>\n",
              "      <th>1849-01-01</th>\n",
              "      <td>8.819</td>\n",
              "    </tr>\n",
              "    <tr>\n",
              "      <th>1849-02-01</th>\n",
              "      <td>9.577</td>\n",
              "    </tr>\n",
              "    <tr>\n",
              "      <th>1849-03-01</th>\n",
              "      <td>11.814</td>\n",
              "    </tr>\n",
              "    <tr>\n",
              "      <th>1849-04-01</th>\n",
              "      <td>13.704</td>\n",
              "    </tr>\n",
              "    <tr>\n",
              "      <th>1849-05-01</th>\n",
              "      <td>14.834</td>\n",
              "    </tr>\n",
              "    <tr>\n",
              "      <th>...</th>\n",
              "      <td>...</td>\n",
              "    </tr>\n",
              "    <tr>\n",
              "      <th>2013-05-01</th>\n",
              "      <td>17.434</td>\n",
              "    </tr>\n",
              "    <tr>\n",
              "      <th>2013-06-01</th>\n",
              "      <td>19.759</td>\n",
              "    </tr>\n",
              "    <tr>\n",
              "      <th>2013-07-01</th>\n",
              "      <td>20.657</td>\n",
              "    </tr>\n",
              "    <tr>\n",
              "      <th>2013-08-01</th>\n",
              "      <td>19.731</td>\n",
              "    </tr>\n",
              "    <tr>\n",
              "      <th>2013-09-01</th>\n",
              "      <td>20.471</td>\n",
              "    </tr>\n",
              "  </tbody>\n",
              "</table>\n",
              "<p>7073 rows × 1 columns</p>\n",
              "</div>"
            ],
            "text/plain": [
              "              Temp\n",
              "Date              \n",
              "1849-01-01   8.819\n",
              "1849-02-01   9.577\n",
              "1849-03-01  11.814\n",
              "1849-04-01  13.704\n",
              "1849-05-01  14.834\n",
              "...            ...\n",
              "2013-05-01  17.434\n",
              "2013-06-01  19.759\n",
              "2013-07-01  20.657\n",
              "2013-08-01  19.731\n",
              "2013-09-01  20.471\n",
              "\n",
              "[7073 rows x 1 columns]"
            ]
          },
          "metadata": {
            "tags": []
          },
          "execution_count": 56
        }
      ]
    },
    {
      "cell_type": "code",
      "metadata": {
        "id": "Y3LY3TnSdQMM"
      },
      "source": [
        "usa_copy['first temp diff']=usa_copy['Temp'] - usa_copy['Temp'].shift(12)"
      ],
      "execution_count": 58,
      "outputs": []
    },
    {
      "cell_type": "code",
      "metadata": {
        "colab": {
          "base_uri": "https://localhost:8080/",
          "height": 455
        },
        "id": "tXJ6NsPFd0re",
        "outputId": "59228be4-c909-4fda-d536-52255db9f65d"
      },
      "source": [
        "usa_copy"
      ],
      "execution_count": 60,
      "outputs": [
        {
          "output_type": "execute_result",
          "data": {
            "text/html": [
              "<div>\n",
              "<style scoped>\n",
              "    .dataframe tbody tr th:only-of-type {\n",
              "        vertical-align: middle;\n",
              "    }\n",
              "\n",
              "    .dataframe tbody tr th {\n",
              "        vertical-align: top;\n",
              "    }\n",
              "\n",
              "    .dataframe thead th {\n",
              "        text-align: right;\n",
              "    }\n",
              "</style>\n",
              "<table border=\"1\" class=\"dataframe\">\n",
              "  <thead>\n",
              "    <tr style=\"text-align: right;\">\n",
              "      <th></th>\n",
              "      <th>Temp</th>\n",
              "      <th>first temp diff</th>\n",
              "    </tr>\n",
              "    <tr>\n",
              "      <th>Date</th>\n",
              "      <th></th>\n",
              "      <th></th>\n",
              "    </tr>\n",
              "  </thead>\n",
              "  <tbody>\n",
              "    <tr>\n",
              "      <th>1849-01-01</th>\n",
              "      <td>8.819</td>\n",
              "      <td>NaN</td>\n",
              "    </tr>\n",
              "    <tr>\n",
              "      <th>1849-02-01</th>\n",
              "      <td>9.577</td>\n",
              "      <td>NaN</td>\n",
              "    </tr>\n",
              "    <tr>\n",
              "      <th>1849-03-01</th>\n",
              "      <td>11.814</td>\n",
              "      <td>NaN</td>\n",
              "    </tr>\n",
              "    <tr>\n",
              "      <th>1849-04-01</th>\n",
              "      <td>13.704</td>\n",
              "      <td>NaN</td>\n",
              "    </tr>\n",
              "    <tr>\n",
              "      <th>1849-05-01</th>\n",
              "      <td>14.834</td>\n",
              "      <td>NaN</td>\n",
              "    </tr>\n",
              "    <tr>\n",
              "      <th>...</th>\n",
              "      <td>...</td>\n",
              "      <td>...</td>\n",
              "    </tr>\n",
              "    <tr>\n",
              "      <th>2013-05-01</th>\n",
              "      <td>17.434</td>\n",
              "      <td>0.879</td>\n",
              "    </tr>\n",
              "    <tr>\n",
              "      <th>2013-06-01</th>\n",
              "      <td>19.759</td>\n",
              "      <td>1.277</td>\n",
              "    </tr>\n",
              "    <tr>\n",
              "      <th>2013-07-01</th>\n",
              "      <td>20.657</td>\n",
              "      <td>1.025</td>\n",
              "    </tr>\n",
              "    <tr>\n",
              "      <th>2013-08-01</th>\n",
              "      <td>19.731</td>\n",
              "      <td>-0.800</td>\n",
              "    </tr>\n",
              "    <tr>\n",
              "      <th>2013-09-01</th>\n",
              "      <td>20.471</td>\n",
              "      <td>1.426</td>\n",
              "    </tr>\n",
              "  </tbody>\n",
              "</table>\n",
              "<p>7073 rows × 2 columns</p>\n",
              "</div>"
            ],
            "text/plain": [
              "              Temp  first temp diff\n",
              "Date                               \n",
              "1849-01-01   8.819              NaN\n",
              "1849-02-01   9.577              NaN\n",
              "1849-03-01  11.814              NaN\n",
              "1849-04-01  13.704              NaN\n",
              "1849-05-01  14.834              NaN\n",
              "...            ...              ...\n",
              "2013-05-01  17.434            0.879\n",
              "2013-06-01  19.759            1.277\n",
              "2013-07-01  20.657            1.025\n",
              "2013-08-01  19.731           -0.800\n",
              "2013-09-01  20.471            1.426\n",
              "\n",
              "[7073 rows x 2 columns]"
            ]
          },
          "metadata": {
            "tags": []
          },
          "execution_count": 60
        }
      ]
    },
    {
      "cell_type": "code",
      "metadata": {
        "colab": {
          "base_uri": "https://localhost:8080/"
        },
        "id": "IYCyzq_B7rEo",
        "outputId": "fb61cd81-99f6-4d4a-c560-ac76e9309e91"
      },
      "source": [
        "adfuller_test(usa_copy['first temp diff'].dropna())"
      ],
      "execution_count": 63,
      "outputs": [
        {
          "output_type": "stream",
          "text": [
            "ADF Test Statistic:-21.23965040491091\n",
            "P-value:0.0\n",
            "#lags used:35\n",
            "Number of observations used:7025\n",
            "Reject null hypothesis. Data is stationary\n"
          ],
          "name": "stdout"
        }
      ]
    },
    {
      "cell_type": "code",
      "metadata": {
        "colab": {
          "base_uri": "https://localhost:8080/",
          "height": 297
        },
        "id": "XgFvHbh1fXkf",
        "outputId": "58927c6f-7814-4c9c-e06c-ad5cbfd10b98"
      },
      "source": [
        "sns.lineplot(x=usa_copy.index,y=usa_copy['first temp diff'],sizes=(15,15))"
      ],
      "execution_count": 68,
      "outputs": [
        {
          "output_type": "execute_result",
          "data": {
            "text/plain": [
              "<matplotlib.axes._subplots.AxesSubplot at 0x7f2e6e88acf8>"
            ]
          },
          "metadata": {
            "tags": []
          },
          "execution_count": 68
        },
        {
          "output_type": "display_data",
          "data": {
            "image/png": "[encoded data removed]",
            "text/plain": [
              "<Figure size 432x288 with 1 Axes>"
            ]
          },
          "metadata": {
            "tags": [],
            "needs_background": "light"
          }
        }
      ]
    },
    {
      "cell_type": "code",
      "metadata": {
        "colab": {
          "base_uri": "https://localhost:8080/",
          "height": 826
        },
        "id": "rPUhDRmc7rMC",
        "outputId": "a7244dbb-4c27-4185-b576-4cd5c5baede6"
      },
      "source": [
        "usa_copy['first temp diff'].plot(figsize=(15,15))"
      ],
      "execution_count": 67,
      "outputs": [
        {
          "output_type": "execute_result",
          "data": {
            "text/plain": [
              "<matplotlib.axes._subplots.AxesSubplot at 0x7f2e6e868898>"
            ]
          },
          "metadata": {
            "tags": []
          },
          "execution_count": 67
        },
        {
          "output_type": "display_data",
          "data": {
            "image/png": "[encoded data removed]",
            "text/plain": [
              "<Figure size 1080x1080 with 1 Axes>"
            ]
          },
          "metadata": {
            "tags": [],
            "needs_background": "light"
          }
        }
      ]
    },
    {
      "cell_type": "code",
      "metadata": {
        "id": "xRoOxmgq7rPI"
      },
      "source": [
        ""
      ],
      "execution_count": null,
      "outputs": []
    },
    {
      "cell_type": "code",
      "metadata": {
        "id": "5NcxMqMO0Ypj"
      },
      "source": [
        ""
      ],
      "execution_count": null,
      "outputs": []
    }
  ]
}